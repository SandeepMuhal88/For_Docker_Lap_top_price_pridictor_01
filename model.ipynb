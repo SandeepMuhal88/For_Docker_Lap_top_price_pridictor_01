{
 "cells": [
  {
   "cell_type": "code",
   "execution_count": 1,
   "id": "b08ece42",
   "metadata": {},
   "outputs": [],
   "source": [
    "import numpy as np\n",
    "import pandas as pd\n",
    "import matplotlib.pyplot as plt"
   ]
  },
  {
   "cell_type": "code",
   "execution_count": 2,
   "id": "74301d7a",
   "metadata": {},
   "outputs": [
    {
     "data": {
      "application/vnd.microsoft.datawrangler.viewer.v0+json": {
       "columns": [
        {
         "name": "index",
         "rawType": "int64",
         "type": "integer"
        },
        {
         "name": "Unnamed: 0",
         "rawType": "int64",
         "type": "integer"
        },
        {
         "name": "Company",
         "rawType": "object",
         "type": "string"
        },
        {
         "name": "TypeName",
         "rawType": "object",
         "type": "string"
        },
        {
         "name": "Inches",
         "rawType": "float64",
         "type": "float"
        },
        {
         "name": "ScreenResolution",
         "rawType": "object",
         "type": "string"
        },
        {
         "name": "Cpu",
         "rawType": "object",
         "type": "string"
        },
        {
         "name": "Ram",
         "rawType": "object",
         "type": "string"
        },
        {
         "name": "Memory",
         "rawType": "object",
         "type": "string"
        },
        {
         "name": "Gpu",
         "rawType": "object",
         "type": "string"
        },
        {
         "name": "OpSys",
         "rawType": "object",
         "type": "string"
        },
        {
         "name": "Weight",
         "rawType": "object",
         "type": "string"
        },
        {
         "name": "Price",
         "rawType": "float64",
         "type": "float"
        }
       ],
       "ref": "68766426-0263-4cb7-8f40-7c2a905d3d83",
       "rows": [
        [
         "0",
         "0",
         "Apple",
         "Ultrabook",
         "13.3",
         "IPS Panel Retina Display 2560x1600",
         "Intel Core i5 2.3GHz",
         "8GB",
         "128GB SSD",
         "Intel Iris Plus Graphics 640",
         "macOS",
         "1.37kg",
         "71378.6832"
        ],
        [
         "1",
         "1",
         "Apple",
         "Ultrabook",
         "13.3",
         "1440x900",
         "Intel Core i5 1.8GHz",
         "8GB",
         "128GB Flash Storage",
         "Intel HD Graphics 6000",
         "macOS",
         "1.34kg",
         "47895.5232"
        ],
        [
         "2",
         "2",
         "HP",
         "Notebook",
         "15.6",
         "Full HD 1920x1080",
         "Intel Core i5 7200U 2.5GHz",
         "8GB",
         "256GB SSD",
         "Intel HD Graphics 620",
         "No OS",
         "1.86kg",
         "30636.0"
        ],
        [
         "3",
         "3",
         "Apple",
         "Ultrabook",
         "15.4",
         "IPS Panel Retina Display 2880x1800",
         "Intel Core i7 2.7GHz",
         "16GB",
         "512GB SSD",
         "AMD Radeon Pro 455",
         "macOS",
         "1.83kg",
         "135195.33599999998"
        ],
        [
         "4",
         "4",
         "Apple",
         "Ultrabook",
         "13.3",
         "IPS Panel Retina Display 2560x1600",
         "Intel Core i5 3.1GHz",
         "8GB",
         "256GB SSD",
         "Intel Iris Plus Graphics 650",
         "macOS",
         "1.37kg",
         "96095.808"
        ]
       ],
       "shape": {
        "columns": 12,
        "rows": 5
       }
      },
      "text/html": [
       "<div>\n",
       "<style scoped>\n",
       "    .dataframe tbody tr th:only-of-type {\n",
       "        vertical-align: middle;\n",
       "    }\n",
       "\n",
       "    .dataframe tbody tr th {\n",
       "        vertical-align: top;\n",
       "    }\n",
       "\n",
       "    .dataframe thead th {\n",
       "        text-align: right;\n",
       "    }\n",
       "</style>\n",
       "<table border=\"1\" class=\"dataframe\">\n",
       "  <thead>\n",
       "    <tr style=\"text-align: right;\">\n",
       "      <th></th>\n",
       "      <th>Unnamed: 0</th>\n",
       "      <th>Company</th>\n",
       "      <th>TypeName</th>\n",
       "      <th>Inches</th>\n",
       "      <th>ScreenResolution</th>\n",
       "      <th>Cpu</th>\n",
       "      <th>Ram</th>\n",
       "      <th>Memory</th>\n",
       "      <th>Gpu</th>\n",
       "      <th>OpSys</th>\n",
       "      <th>Weight</th>\n",
       "      <th>Price</th>\n",
       "    </tr>\n",
       "  </thead>\n",
       "  <tbody>\n",
       "    <tr>\n",
       "      <th>0</th>\n",
       "      <td>0</td>\n",
       "      <td>Apple</td>\n",
       "      <td>Ultrabook</td>\n",
       "      <td>13.3</td>\n",
       "      <td>IPS Panel Retina Display 2560x1600</td>\n",
       "      <td>Intel Core i5 2.3GHz</td>\n",
       "      <td>8GB</td>\n",
       "      <td>128GB SSD</td>\n",
       "      <td>Intel Iris Plus Graphics 640</td>\n",
       "      <td>macOS</td>\n",
       "      <td>1.37kg</td>\n",
       "      <td>71378.6832</td>\n",
       "    </tr>\n",
       "    <tr>\n",
       "      <th>1</th>\n",
       "      <td>1</td>\n",
       "      <td>Apple</td>\n",
       "      <td>Ultrabook</td>\n",
       "      <td>13.3</td>\n",
       "      <td>1440x900</td>\n",
       "      <td>Intel Core i5 1.8GHz</td>\n",
       "      <td>8GB</td>\n",
       "      <td>128GB Flash Storage</td>\n",
       "      <td>Intel HD Graphics 6000</td>\n",
       "      <td>macOS</td>\n",
       "      <td>1.34kg</td>\n",
       "      <td>47895.5232</td>\n",
       "    </tr>\n",
       "    <tr>\n",
       "      <th>2</th>\n",
       "      <td>2</td>\n",
       "      <td>HP</td>\n",
       "      <td>Notebook</td>\n",
       "      <td>15.6</td>\n",
       "      <td>Full HD 1920x1080</td>\n",
       "      <td>Intel Core i5 7200U 2.5GHz</td>\n",
       "      <td>8GB</td>\n",
       "      <td>256GB SSD</td>\n",
       "      <td>Intel HD Graphics 620</td>\n",
       "      <td>No OS</td>\n",
       "      <td>1.86kg</td>\n",
       "      <td>30636.0000</td>\n",
       "    </tr>\n",
       "    <tr>\n",
       "      <th>3</th>\n",
       "      <td>3</td>\n",
       "      <td>Apple</td>\n",
       "      <td>Ultrabook</td>\n",
       "      <td>15.4</td>\n",
       "      <td>IPS Panel Retina Display 2880x1800</td>\n",
       "      <td>Intel Core i7 2.7GHz</td>\n",
       "      <td>16GB</td>\n",
       "      <td>512GB SSD</td>\n",
       "      <td>AMD Radeon Pro 455</td>\n",
       "      <td>macOS</td>\n",
       "      <td>1.83kg</td>\n",
       "      <td>135195.3360</td>\n",
       "    </tr>\n",
       "    <tr>\n",
       "      <th>4</th>\n",
       "      <td>4</td>\n",
       "      <td>Apple</td>\n",
       "      <td>Ultrabook</td>\n",
       "      <td>13.3</td>\n",
       "      <td>IPS Panel Retina Display 2560x1600</td>\n",
       "      <td>Intel Core i5 3.1GHz</td>\n",
       "      <td>8GB</td>\n",
       "      <td>256GB SSD</td>\n",
       "      <td>Intel Iris Plus Graphics 650</td>\n",
       "      <td>macOS</td>\n",
       "      <td>1.37kg</td>\n",
       "      <td>96095.8080</td>\n",
       "    </tr>\n",
       "  </tbody>\n",
       "</table>\n",
       "</div>"
      ],
      "text/plain": [
       "   Unnamed: 0 Company   TypeName  Inches                    ScreenResolution  \\\n",
       "0           0   Apple  Ultrabook    13.3  IPS Panel Retina Display 2560x1600   \n",
       "1           1   Apple  Ultrabook    13.3                            1440x900   \n",
       "2           2      HP   Notebook    15.6                   Full HD 1920x1080   \n",
       "3           3   Apple  Ultrabook    15.4  IPS Panel Retina Display 2880x1800   \n",
       "4           4   Apple  Ultrabook    13.3  IPS Panel Retina Display 2560x1600   \n",
       "\n",
       "                          Cpu   Ram               Memory  \\\n",
       "0        Intel Core i5 2.3GHz   8GB            128GB SSD   \n",
       "1        Intel Core i5 1.8GHz   8GB  128GB Flash Storage   \n",
       "2  Intel Core i5 7200U 2.5GHz   8GB            256GB SSD   \n",
       "3        Intel Core i7 2.7GHz  16GB            512GB SSD   \n",
       "4        Intel Core i5 3.1GHz   8GB            256GB SSD   \n",
       "\n",
       "                            Gpu  OpSys  Weight        Price  \n",
       "0  Intel Iris Plus Graphics 640  macOS  1.37kg   71378.6832  \n",
       "1        Intel HD Graphics 6000  macOS  1.34kg   47895.5232  \n",
       "2         Intel HD Graphics 620  No OS  1.86kg   30636.0000  \n",
       "3            AMD Radeon Pro 455  macOS  1.83kg  135195.3360  \n",
       "4  Intel Iris Plus Graphics 650  macOS  1.37kg   96095.8080  "
      ]
     },
     "execution_count": 2,
     "metadata": {},
     "output_type": "execute_result"
    }
   ],
   "source": [
    "df = pd.read_csv('data.csv')\n",
    "df.head()"
   ]
  },
  {
   "cell_type": "markdown",
   "id": "7179d75d",
   "metadata": {},
   "source": [
    "DATA PREPROCESSING "
   ]
  },
  {
   "cell_type": "code",
   "execution_count": 3,
   "id": "d216df10",
   "metadata": {},
   "outputs": [
    {
     "data": {
      "text/plain": [
       "(1303, 12)"
      ]
     },
     "execution_count": 3,
     "metadata": {},
     "output_type": "execute_result"
    }
   ],
   "source": [
    "df.shape"
   ]
  },
  {
   "cell_type": "code",
   "execution_count": 4,
   "id": "d3d8dcd5",
   "metadata": {},
   "outputs": [
    {
     "name": "stdout",
     "output_type": "stream",
     "text": [
      "<class 'pandas.core.frame.DataFrame'>\n",
      "RangeIndex: 1303 entries, 0 to 1302\n",
      "Data columns (total 12 columns):\n",
      " #   Column            Non-Null Count  Dtype  \n",
      "---  ------            --------------  -----  \n",
      " 0   Unnamed: 0        1303 non-null   int64  \n",
      " 1   Company           1303 non-null   object \n",
      " 2   TypeName          1303 non-null   object \n",
      " 3   Inches            1303 non-null   float64\n",
      " 4   ScreenResolution  1303 non-null   object \n",
      " 5   Cpu               1303 non-null   object \n",
      " 6   Ram               1303 non-null   object \n",
      " 7   Memory            1303 non-null   object \n",
      " 8   Gpu               1303 non-null   object \n",
      " 9   OpSys             1303 non-null   object \n",
      " 10  Weight            1303 non-null   object \n",
      " 11  Price             1303 non-null   float64\n",
      "dtypes: float64(2), int64(1), object(9)\n",
      "memory usage: 122.3+ KB\n"
     ]
    }
   ],
   "source": [
    "df.info()"
   ]
  },
  {
   "cell_type": "code",
   "execution_count": 5,
   "id": "67525282",
   "metadata": {},
   "outputs": [
    {
     "data": {
      "text/plain": [
       "np.int64(0)"
      ]
     },
     "execution_count": 5,
     "metadata": {},
     "output_type": "execute_result"
    }
   ],
   "source": [
    "df.duplicated().sum()"
   ]
  },
  {
   "cell_type": "code",
   "execution_count": 6,
   "id": "24a7027c",
   "metadata": {},
   "outputs": [
    {
     "data": {
      "application/vnd.microsoft.datawrangler.viewer.v0+json": {
       "columns": [
        {
         "name": "index",
         "rawType": "object",
         "type": "string"
        },
        {
         "name": "0",
         "rawType": "int64",
         "type": "integer"
        }
       ],
       "ref": "fc07092c-77f9-4df8-93e7-bd26215460e5",
       "rows": [
        [
         "Unnamed: 0",
         "0"
        ],
        [
         "Company",
         "0"
        ],
        [
         "TypeName",
         "0"
        ],
        [
         "Inches",
         "0"
        ],
        [
         "ScreenResolution",
         "0"
        ],
        [
         "Cpu",
         "0"
        ],
        [
         "Ram",
         "0"
        ],
        [
         "Memory",
         "0"
        ],
        [
         "Gpu",
         "0"
        ],
        [
         "OpSys",
         "0"
        ],
        [
         "Weight",
         "0"
        ],
        [
         "Price",
         "0"
        ]
       ],
       "shape": {
        "columns": 1,
        "rows": 12
       }
      },
      "text/plain": [
       "Unnamed: 0          0\n",
       "Company             0\n",
       "TypeName            0\n",
       "Inches              0\n",
       "ScreenResolution    0\n",
       "Cpu                 0\n",
       "Ram                 0\n",
       "Memory              0\n",
       "Gpu                 0\n",
       "OpSys               0\n",
       "Weight              0\n",
       "Price               0\n",
       "dtype: int64"
      ]
     },
     "execution_count": 6,
     "metadata": {},
     "output_type": "execute_result"
    }
   ],
   "source": [
    "df.isnull().sum()"
   ]
  },
  {
   "cell_type": "code",
   "execution_count": 7,
   "id": "efefab21",
   "metadata": {},
   "outputs": [],
   "source": [
    "# Droping the column\n",
    "# df.drop(columns=['Unnamed: 0'],inplace='True')\n",
    "\n",
    "df.drop(columns=['Unnamed: 0'],inplace=True)"
   ]
  },
  {
   "cell_type": "code",
   "execution_count": 8,
   "id": "341bf3fa",
   "metadata": {},
   "outputs": [
    {
     "name": "stdout",
     "output_type": "stream",
     "text": [
      "<class 'pandas.core.frame.DataFrame'>\n",
      "RangeIndex: 1303 entries, 0 to 1302\n",
      "Data columns (total 11 columns):\n",
      " #   Column            Non-Null Count  Dtype  \n",
      "---  ------            --------------  -----  \n",
      " 0   Company           1303 non-null   object \n",
      " 1   TypeName          1303 non-null   object \n",
      " 2   Inches            1303 non-null   float64\n",
      " 3   ScreenResolution  1303 non-null   object \n",
      " 4   Cpu               1303 non-null   object \n",
      " 5   Ram               1303 non-null   object \n",
      " 6   Memory            1303 non-null   object \n",
      " 7   Gpu               1303 non-null   object \n",
      " 8   OpSys             1303 non-null   object \n",
      " 9   Weight            1303 non-null   object \n",
      " 10  Price             1303 non-null   float64\n",
      "dtypes: float64(2), object(9)\n",
      "memory usage: 112.1+ KB\n"
     ]
    }
   ],
   "source": [
    "df.info()"
   ]
  },
  {
   "cell_type": "code",
   "execution_count": 9,
   "id": "83aa3f1b",
   "metadata": {},
   "outputs": [
    {
     "data": {
      "application/vnd.microsoft.datawrangler.viewer.v0+json": {
       "columns": [
        {
         "name": "index",
         "rawType": "int64",
         "type": "integer"
        },
        {
         "name": "Company",
         "rawType": "object",
         "type": "string"
        },
        {
         "name": "TypeName",
         "rawType": "object",
         "type": "string"
        },
        {
         "name": "Inches",
         "rawType": "float64",
         "type": "float"
        },
        {
         "name": "ScreenResolution",
         "rawType": "object",
         "type": "string"
        },
        {
         "name": "Cpu",
         "rawType": "object",
         "type": "string"
        },
        {
         "name": "Ram",
         "rawType": "object",
         "type": "string"
        },
        {
         "name": "Memory",
         "rawType": "object",
         "type": "string"
        },
        {
         "name": "Gpu",
         "rawType": "object",
         "type": "string"
        },
        {
         "name": "OpSys",
         "rawType": "object",
         "type": "string"
        },
        {
         "name": "Weight",
         "rawType": "object",
         "type": "string"
        },
        {
         "name": "Price",
         "rawType": "float64",
         "type": "float"
        }
       ],
       "ref": "dfb2311f-a608-453d-a33c-2b0c74560044",
       "rows": [
        [
         "0",
         "Apple",
         "Ultrabook",
         "13.3",
         "IPS Panel Retina Display 2560x1600",
         "Intel Core i5 2.3GHz",
         "8GB",
         "128GB SSD",
         "Intel Iris Plus Graphics 640",
         "macOS",
         "1.37kg",
         "71378.6832"
        ],
        [
         "1",
         "Apple",
         "Ultrabook",
         "13.3",
         "1440x900",
         "Intel Core i5 1.8GHz",
         "8GB",
         "128GB Flash Storage",
         "Intel HD Graphics 6000",
         "macOS",
         "1.34kg",
         "47895.5232"
        ],
        [
         "2",
         "HP",
         "Notebook",
         "15.6",
         "Full HD 1920x1080",
         "Intel Core i5 7200U 2.5GHz",
         "8GB",
         "256GB SSD",
         "Intel HD Graphics 620",
         "No OS",
         "1.86kg",
         "30636.0"
        ],
        [
         "3",
         "Apple",
         "Ultrabook",
         "15.4",
         "IPS Panel Retina Display 2880x1800",
         "Intel Core i7 2.7GHz",
         "16GB",
         "512GB SSD",
         "AMD Radeon Pro 455",
         "macOS",
         "1.83kg",
         "135195.33599999998"
        ],
        [
         "4",
         "Apple",
         "Ultrabook",
         "13.3",
         "IPS Panel Retina Display 2560x1600",
         "Intel Core i5 3.1GHz",
         "8GB",
         "256GB SSD",
         "Intel Iris Plus Graphics 650",
         "macOS",
         "1.37kg",
         "96095.808"
        ]
       ],
       "shape": {
        "columns": 11,
        "rows": 5
       }
      },
      "text/html": [
       "<div>\n",
       "<style scoped>\n",
       "    .dataframe tbody tr th:only-of-type {\n",
       "        vertical-align: middle;\n",
       "    }\n",
       "\n",
       "    .dataframe tbody tr th {\n",
       "        vertical-align: top;\n",
       "    }\n",
       "\n",
       "    .dataframe thead th {\n",
       "        text-align: right;\n",
       "    }\n",
       "</style>\n",
       "<table border=\"1\" class=\"dataframe\">\n",
       "  <thead>\n",
       "    <tr style=\"text-align: right;\">\n",
       "      <th></th>\n",
       "      <th>Company</th>\n",
       "      <th>TypeName</th>\n",
       "      <th>Inches</th>\n",
       "      <th>ScreenResolution</th>\n",
       "      <th>Cpu</th>\n",
       "      <th>Ram</th>\n",
       "      <th>Memory</th>\n",
       "      <th>Gpu</th>\n",
       "      <th>OpSys</th>\n",
       "      <th>Weight</th>\n",
       "      <th>Price</th>\n",
       "    </tr>\n",
       "  </thead>\n",
       "  <tbody>\n",
       "    <tr>\n",
       "      <th>0</th>\n",
       "      <td>Apple</td>\n",
       "      <td>Ultrabook</td>\n",
       "      <td>13.3</td>\n",
       "      <td>IPS Panel Retina Display 2560x1600</td>\n",
       "      <td>Intel Core i5 2.3GHz</td>\n",
       "      <td>8GB</td>\n",
       "      <td>128GB SSD</td>\n",
       "      <td>Intel Iris Plus Graphics 640</td>\n",
       "      <td>macOS</td>\n",
       "      <td>1.37kg</td>\n",
       "      <td>71378.6832</td>\n",
       "    </tr>\n",
       "    <tr>\n",
       "      <th>1</th>\n",
       "      <td>Apple</td>\n",
       "      <td>Ultrabook</td>\n",
       "      <td>13.3</td>\n",
       "      <td>1440x900</td>\n",
       "      <td>Intel Core i5 1.8GHz</td>\n",
       "      <td>8GB</td>\n",
       "      <td>128GB Flash Storage</td>\n",
       "      <td>Intel HD Graphics 6000</td>\n",
       "      <td>macOS</td>\n",
       "      <td>1.34kg</td>\n",
       "      <td>47895.5232</td>\n",
       "    </tr>\n",
       "    <tr>\n",
       "      <th>2</th>\n",
       "      <td>HP</td>\n",
       "      <td>Notebook</td>\n",
       "      <td>15.6</td>\n",
       "      <td>Full HD 1920x1080</td>\n",
       "      <td>Intel Core i5 7200U 2.5GHz</td>\n",
       "      <td>8GB</td>\n",
       "      <td>256GB SSD</td>\n",
       "      <td>Intel HD Graphics 620</td>\n",
       "      <td>No OS</td>\n",
       "      <td>1.86kg</td>\n",
       "      <td>30636.0000</td>\n",
       "    </tr>\n",
       "    <tr>\n",
       "      <th>3</th>\n",
       "      <td>Apple</td>\n",
       "      <td>Ultrabook</td>\n",
       "      <td>15.4</td>\n",
       "      <td>IPS Panel Retina Display 2880x1800</td>\n",
       "      <td>Intel Core i7 2.7GHz</td>\n",
       "      <td>16GB</td>\n",
       "      <td>512GB SSD</td>\n",
       "      <td>AMD Radeon Pro 455</td>\n",
       "      <td>macOS</td>\n",
       "      <td>1.83kg</td>\n",
       "      <td>135195.3360</td>\n",
       "    </tr>\n",
       "    <tr>\n",
       "      <th>4</th>\n",
       "      <td>Apple</td>\n",
       "      <td>Ultrabook</td>\n",
       "      <td>13.3</td>\n",
       "      <td>IPS Panel Retina Display 2560x1600</td>\n",
       "      <td>Intel Core i5 3.1GHz</td>\n",
       "      <td>8GB</td>\n",
       "      <td>256GB SSD</td>\n",
       "      <td>Intel Iris Plus Graphics 650</td>\n",
       "      <td>macOS</td>\n",
       "      <td>1.37kg</td>\n",
       "      <td>96095.8080</td>\n",
       "    </tr>\n",
       "  </tbody>\n",
       "</table>\n",
       "</div>"
      ],
      "text/plain": [
       "  Company   TypeName  Inches                    ScreenResolution  \\\n",
       "0   Apple  Ultrabook    13.3  IPS Panel Retina Display 2560x1600   \n",
       "1   Apple  Ultrabook    13.3                            1440x900   \n",
       "2      HP   Notebook    15.6                   Full HD 1920x1080   \n",
       "3   Apple  Ultrabook    15.4  IPS Panel Retina Display 2880x1800   \n",
       "4   Apple  Ultrabook    13.3  IPS Panel Retina Display 2560x1600   \n",
       "\n",
       "                          Cpu   Ram               Memory  \\\n",
       "0        Intel Core i5 2.3GHz   8GB            128GB SSD   \n",
       "1        Intel Core i5 1.8GHz   8GB  128GB Flash Storage   \n",
       "2  Intel Core i5 7200U 2.5GHz   8GB            256GB SSD   \n",
       "3        Intel Core i7 2.7GHz  16GB            512GB SSD   \n",
       "4        Intel Core i5 3.1GHz   8GB            256GB SSD   \n",
       "\n",
       "                            Gpu  OpSys  Weight        Price  \n",
       "0  Intel Iris Plus Graphics 640  macOS  1.37kg   71378.6832  \n",
       "1        Intel HD Graphics 6000  macOS  1.34kg   47895.5232  \n",
       "2         Intel HD Graphics 620  No OS  1.86kg   30636.0000  \n",
       "3            AMD Radeon Pro 455  macOS  1.83kg  135195.3360  \n",
       "4  Intel Iris Plus Graphics 650  macOS  1.37kg   96095.8080  "
      ]
     },
     "execution_count": 9,
     "metadata": {},
     "output_type": "execute_result"
    }
   ],
   "source": [
    "df.head()"
   ]
  },
  {
   "cell_type": "code",
   "execution_count": 10,
   "id": "c88db7c7",
   "metadata": {},
   "outputs": [],
   "source": [
    "df['Ram']=df['Ram'].str.replace('GB','').astype('int32')\n",
    "df['Weight']=df['Weight'].str.replace('kg','').astype('float32')"
   ]
  },
  {
   "cell_type": "code",
   "execution_count": 11,
   "id": "bad8c674",
   "metadata": {},
   "outputs": [
    {
     "name": "stdout",
     "output_type": "stream",
     "text": [
      "<class 'pandas.core.frame.DataFrame'>\n",
      "RangeIndex: 1303 entries, 0 to 1302\n",
      "Data columns (total 11 columns):\n",
      " #   Column            Non-Null Count  Dtype  \n",
      "---  ------            --------------  -----  \n",
      " 0   Company           1303 non-null   object \n",
      " 1   TypeName          1303 non-null   object \n",
      " 2   Inches            1303 non-null   float64\n",
      " 3   ScreenResolution  1303 non-null   object \n",
      " 4   Cpu               1303 non-null   object \n",
      " 5   Ram               1303 non-null   int32  \n",
      " 6   Memory            1303 non-null   object \n",
      " 7   Gpu               1303 non-null   object \n",
      " 8   OpSys             1303 non-null   object \n",
      " 9   Weight            1303 non-null   float32\n",
      " 10  Price             1303 non-null   float64\n",
      "dtypes: float32(1), float64(2), int32(1), object(7)\n",
      "memory usage: 101.9+ KB\n"
     ]
    }
   ],
   "source": [
    "df.info()"
   ]
  },
  {
   "cell_type": "code",
   "execution_count": 12,
   "id": "3a338b18",
   "metadata": {},
   "outputs": [
    {
     "data": {
      "application/vnd.microsoft.datawrangler.viewer.v0+json": {
       "columns": [
        {
         "name": "index",
         "rawType": "int64",
         "type": "integer"
        },
        {
         "name": "Company",
         "rawType": "object",
         "type": "string"
        },
        {
         "name": "TypeName",
         "rawType": "object",
         "type": "string"
        },
        {
         "name": "Inches",
         "rawType": "float64",
         "type": "float"
        },
        {
         "name": "ScreenResolution",
         "rawType": "object",
         "type": "string"
        },
        {
         "name": "Cpu",
         "rawType": "object",
         "type": "string"
        },
        {
         "name": "Ram",
         "rawType": "int32",
         "type": "integer"
        },
        {
         "name": "Memory",
         "rawType": "object",
         "type": "string"
        },
        {
         "name": "Gpu",
         "rawType": "object",
         "type": "string"
        },
        {
         "name": "OpSys",
         "rawType": "object",
         "type": "string"
        },
        {
         "name": "Weight",
         "rawType": "float32",
         "type": "float"
        },
        {
         "name": "Price",
         "rawType": "float64",
         "type": "float"
        }
       ],
       "ref": "baf61fb7-d405-4652-b93c-846ab438569d",
       "rows": [
        [
         "0",
         "Apple",
         "Ultrabook",
         "13.3",
         "IPS Panel Retina Display 2560x1600",
         "Intel Core i5 2.3GHz",
         "8",
         "128GB SSD",
         "Intel Iris Plus Graphics 640",
         "macOS",
         "1.37",
         "71378.6832"
        ],
        [
         "1",
         "Apple",
         "Ultrabook",
         "13.3",
         "1440x900",
         "Intel Core i5 1.8GHz",
         "8",
         "128GB Flash Storage",
         "Intel HD Graphics 6000",
         "macOS",
         "1.34",
         "47895.5232"
        ],
        [
         "2",
         "HP",
         "Notebook",
         "15.6",
         "Full HD 1920x1080",
         "Intel Core i5 7200U 2.5GHz",
         "8",
         "256GB SSD",
         "Intel HD Graphics 620",
         "No OS",
         "1.86",
         "30636.0"
        ],
        [
         "3",
         "Apple",
         "Ultrabook",
         "15.4",
         "IPS Panel Retina Display 2880x1800",
         "Intel Core i7 2.7GHz",
         "16",
         "512GB SSD",
         "AMD Radeon Pro 455",
         "macOS",
         "1.83",
         "135195.33599999998"
        ],
        [
         "4",
         "Apple",
         "Ultrabook",
         "13.3",
         "IPS Panel Retina Display 2560x1600",
         "Intel Core i5 3.1GHz",
         "8",
         "256GB SSD",
         "Intel Iris Plus Graphics 650",
         "macOS",
         "1.37",
         "96095.808"
        ]
       ],
       "shape": {
        "columns": 11,
        "rows": 5
       }
      },
      "text/html": [
       "<div>\n",
       "<style scoped>\n",
       "    .dataframe tbody tr th:only-of-type {\n",
       "        vertical-align: middle;\n",
       "    }\n",
       "\n",
       "    .dataframe tbody tr th {\n",
       "        vertical-align: top;\n",
       "    }\n",
       "\n",
       "    .dataframe thead th {\n",
       "        text-align: right;\n",
       "    }\n",
       "</style>\n",
       "<table border=\"1\" class=\"dataframe\">\n",
       "  <thead>\n",
       "    <tr style=\"text-align: right;\">\n",
       "      <th></th>\n",
       "      <th>Company</th>\n",
       "      <th>TypeName</th>\n",
       "      <th>Inches</th>\n",
       "      <th>ScreenResolution</th>\n",
       "      <th>Cpu</th>\n",
       "      <th>Ram</th>\n",
       "      <th>Memory</th>\n",
       "      <th>Gpu</th>\n",
       "      <th>OpSys</th>\n",
       "      <th>Weight</th>\n",
       "      <th>Price</th>\n",
       "    </tr>\n",
       "  </thead>\n",
       "  <tbody>\n",
       "    <tr>\n",
       "      <th>0</th>\n",
       "      <td>Apple</td>\n",
       "      <td>Ultrabook</td>\n",
       "      <td>13.3</td>\n",
       "      <td>IPS Panel Retina Display 2560x1600</td>\n",
       "      <td>Intel Core i5 2.3GHz</td>\n",
       "      <td>8</td>\n",
       "      <td>128GB SSD</td>\n",
       "      <td>Intel Iris Plus Graphics 640</td>\n",
       "      <td>macOS</td>\n",
       "      <td>1.37</td>\n",
       "      <td>71378.6832</td>\n",
       "    </tr>\n",
       "    <tr>\n",
       "      <th>1</th>\n",
       "      <td>Apple</td>\n",
       "      <td>Ultrabook</td>\n",
       "      <td>13.3</td>\n",
       "      <td>1440x900</td>\n",
       "      <td>Intel Core i5 1.8GHz</td>\n",
       "      <td>8</td>\n",
       "      <td>128GB Flash Storage</td>\n",
       "      <td>Intel HD Graphics 6000</td>\n",
       "      <td>macOS</td>\n",
       "      <td>1.34</td>\n",
       "      <td>47895.5232</td>\n",
       "    </tr>\n",
       "    <tr>\n",
       "      <th>2</th>\n",
       "      <td>HP</td>\n",
       "      <td>Notebook</td>\n",
       "      <td>15.6</td>\n",
       "      <td>Full HD 1920x1080</td>\n",
       "      <td>Intel Core i5 7200U 2.5GHz</td>\n",
       "      <td>8</td>\n",
       "      <td>256GB SSD</td>\n",
       "      <td>Intel HD Graphics 620</td>\n",
       "      <td>No OS</td>\n",
       "      <td>1.86</td>\n",
       "      <td>30636.0000</td>\n",
       "    </tr>\n",
       "    <tr>\n",
       "      <th>3</th>\n",
       "      <td>Apple</td>\n",
       "      <td>Ultrabook</td>\n",
       "      <td>15.4</td>\n",
       "      <td>IPS Panel Retina Display 2880x1800</td>\n",
       "      <td>Intel Core i7 2.7GHz</td>\n",
       "      <td>16</td>\n",
       "      <td>512GB SSD</td>\n",
       "      <td>AMD Radeon Pro 455</td>\n",
       "      <td>macOS</td>\n",
       "      <td>1.83</td>\n",
       "      <td>135195.3360</td>\n",
       "    </tr>\n",
       "    <tr>\n",
       "      <th>4</th>\n",
       "      <td>Apple</td>\n",
       "      <td>Ultrabook</td>\n",
       "      <td>13.3</td>\n",
       "      <td>IPS Panel Retina Display 2560x1600</td>\n",
       "      <td>Intel Core i5 3.1GHz</td>\n",
       "      <td>8</td>\n",
       "      <td>256GB SSD</td>\n",
       "      <td>Intel Iris Plus Graphics 650</td>\n",
       "      <td>macOS</td>\n",
       "      <td>1.37</td>\n",
       "      <td>96095.8080</td>\n",
       "    </tr>\n",
       "  </tbody>\n",
       "</table>\n",
       "</div>"
      ],
      "text/plain": [
       "  Company   TypeName  Inches                    ScreenResolution  \\\n",
       "0   Apple  Ultrabook    13.3  IPS Panel Retina Display 2560x1600   \n",
       "1   Apple  Ultrabook    13.3                            1440x900   \n",
       "2      HP   Notebook    15.6                   Full HD 1920x1080   \n",
       "3   Apple  Ultrabook    15.4  IPS Panel Retina Display 2880x1800   \n",
       "4   Apple  Ultrabook    13.3  IPS Panel Retina Display 2560x1600   \n",
       "\n",
       "                          Cpu  Ram               Memory  \\\n",
       "0        Intel Core i5 2.3GHz    8            128GB SSD   \n",
       "1        Intel Core i5 1.8GHz    8  128GB Flash Storage   \n",
       "2  Intel Core i5 7200U 2.5GHz    8            256GB SSD   \n",
       "3        Intel Core i7 2.7GHz   16            512GB SSD   \n",
       "4        Intel Core i5 3.1GHz    8            256GB SSD   \n",
       "\n",
       "                            Gpu  OpSys  Weight        Price  \n",
       "0  Intel Iris Plus Graphics 640  macOS    1.37   71378.6832  \n",
       "1        Intel HD Graphics 6000  macOS    1.34   47895.5232  \n",
       "2         Intel HD Graphics 620  No OS    1.86   30636.0000  \n",
       "3            AMD Radeon Pro 455  macOS    1.83  135195.3360  \n",
       "4  Intel Iris Plus Graphics 650  macOS    1.37   96095.8080  "
      ]
     },
     "execution_count": 12,
     "metadata": {},
     "output_type": "execute_result"
    }
   ],
   "source": [
    "df.head()"
   ]
  },
  {
   "cell_type": "code",
   "execution_count": 13,
   "id": "6cd50cfa",
   "metadata": {},
   "outputs": [],
   "source": [
    "import seaborn as sns"
   ]
  },
  {
   "cell_type": "code",
   "execution_count": 14,
   "id": "dfa78512",
   "metadata": {},
   "outputs": [
    {
     "data": {
      "text/plain": [
       "<seaborn.axisgrid.FacetGrid at 0x1ef7f799780>"
      ]
     },
     "execution_count": 14,
     "metadata": {},
     "output_type": "execute_result"
    },
    {
     "data": {
      "image/png": "[encoded data removed]",
      "text/plain": [
       "<Figure size 500x500 with 1 Axes>"
      ]
     },
     "metadata": {},
     "output_type": "display_data"
    }
   ],
   "source": [
    "sns.displot(df['Price'])"
   ]
  },
  {
   "cell_type": "code",
   "execution_count": 15,
   "id": "a6b6affe",
   "metadata": {},
   "outputs": [
    {
     "data": {
      "text/plain": [
       "<Axes: xlabel='Company'>"
      ]
     },
     "execution_count": 15,
     "metadata": {},
     "output_type": "execute_result"
    },
    {
     "data": {
      "image/png": "[encoded data removed]",
      "text/plain": [
       "<Figure size 640x480 with 1 Axes>"
      ]
     },
     "metadata": {},
     "output_type": "display_data"
    }
   ],
   "source": [
    "df['Company'].value_counts().plot(kind='bar')\n",
    "# sns.countplot(x=df['Company'])\n",
    "# plt.xticks(rotation='vertical')"
   ]
  },
  {
   "cell_type": "code",
   "execution_count": 16,
   "id": "80b9bea3",
   "metadata": {},
   "outputs": [
    {
     "data": {
      "image/png": "[encoded data removed]",
      "text/plain": [
       "<Figure size 640x480 with 1 Axes>"
      ]
     },
     "metadata": {},
     "output_type": "display_data"
    }
   ],
   "source": [
    "sns.barplot(x=df['Company'],y=df['Price'])\n",
    "plt.xticks(rotation='vertical')\n",
    "plt.show()"
   ]
  },
  {
   "cell_type": "code",
   "execution_count": 31,
   "id": "a4f83e0e",
   "metadata": {},
   "outputs": [
    {
     "data": {
      "text/plain": [
       "<Axes: xlabel='TypeName'>"
      ]
     },
     "execution_count": 31,
     "metadata": {},
     "output_type": "execute_result"
    },
    {
     "data": {
      "image/png": "[encoded data removed]",
      "text/plain": [
       "<Figure size 640x480 with 1 Axes>"
      ]
     },
     "metadata": {},
     "output_type": "display_data"
    }
   ],
   "source": [
    "df['TypeName'].value_counts().plot(kind='bar')"
   ]
  },
  {
   "cell_type": "code",
   "execution_count": 32,
   "id": "810c7aae",
   "metadata": {},
   "outputs": [
    {
     "data": {
      "image/png": "[encoded data removed]",
      "text/plain": [
       "<Figure size 640x480 with 1 Axes>"
      ]
     },
     "metadata": {},
     "output_type": "display_data"
    }
   ],
   "source": [
    "sns.barplot(x=df['TypeName'],y=df['Price'])\n",
    "plt.xticks(rotation='vertical')\n",
    "plt.show()"
   ]
  },
  {
   "cell_type": "code",
   "execution_count": 33,
   "id": "1b0ca402",
   "metadata": {},
   "outputs": [
    {
     "name": "stderr",
     "output_type": "stream",
     "text": [
      "C:\\Users\\sande\\AppData\\Local\\Temp\\ipykernel_19628\\1439577752.py:1: UserWarning: \n",
      "\n",
      "`distplot` is a deprecated function and will be removed in seaborn v0.14.0.\n",
      "\n",
      "Please adapt your code to use either `displot` (a figure-level function with\n",
      "similar flexibility) or `histplot` (an axes-level function for histograms).\n",
      "\n",
      "For a guide to updating your code to use the new functions, please see\n",
      "https://gist.github.com/mwaskom/de44147ed2974457ad6372750bbe5751\n",
      "\n",
      "  sns.distplot(df['Inches'])\n"
     ]
    },
    {
     "data": {
      "text/plain": [
       "<Axes: xlabel='Inches', ylabel='Density'>"
      ]
     },
     "execution_count": 33,
     "metadata": {},
     "output_type": "execute_result"
    },
    {
     "data": {
      "image/png": "[encoded data removed]",
      "text/plain": [
       "<Figure size 640x480 with 1 Axes>"
      ]
     },
     "metadata": {},
     "output_type": "display_data"
    }
   ],
   "source": [
    "sns.distplot(df['Inches'])"
   ]
  },
  {
   "cell_type": "code",
   "execution_count": 19,
   "id": "4070d0c1",
   "metadata": {},
   "outputs": [
    {
     "data": {
      "text/plain": [
       "<Axes: xlabel='Inches', ylabel='Price'>"
      ]
     },
     "execution_count": 19,
     "metadata": {},
     "output_type": "execute_result"
    },
    {
     "data": {
      "image/png": "[encoded data removed]",
      "text/plain": [
       "<Figure size 640x480 with 1 Axes>"
      ]
     },
     "metadata": {},
     "output_type": "display_data"
    }
   ],
   "source": [
    "sns.scatterplot(x=df['Inches'],y=df['Price'])"
   ]
  },
  {
   "cell_type": "code",
   "execution_count": 20,
   "id": "579deb5d",
   "metadata": {},
   "outputs": [
    {
     "data": {
      "application/vnd.microsoft.datawrangler.viewer.v0+json": {
       "columns": [
        {
         "name": "ScreenResolution",
         "rawType": "object",
         "type": "string"
        },
        {
         "name": "count",
         "rawType": "int64",
         "type": "integer"
        }
       ],
       "ref": "d3bcfff1-2615-4ea8-a626-8aa8a45b7181",
       "rows": [
        [
         "Full HD 1920x1080",
         "507"
        ],
        [
         "1366x768",
         "281"
        ],
        [
         "IPS Panel Full HD 1920x1080",
         "230"
        ],
        [
         "IPS Panel Full HD / Touchscreen 1920x1080",
         "53"
        ],
        [
         "Full HD / Touchscreen 1920x1080",
         "47"
        ],
        [
         "1600x900",
         "23"
        ],
        [
         "Touchscreen 1366x768",
         "16"
        ],
        [
         "Quad HD+ / Touchscreen 3200x1800",
         "15"
        ],
        [
         "IPS Panel 4K Ultra HD 3840x2160",
         "12"
        ],
        [
         "IPS Panel 4K Ultra HD / Touchscreen 3840x2160",
         "11"
        ],
        [
         "4K Ultra HD / Touchscreen 3840x2160",
         "10"
        ],
        [
         "IPS Panel 1366x768",
         "7"
        ],
        [
         "Touchscreen 2560x1440",
         "7"
        ],
        [
         "4K Ultra HD 3840x2160",
         "7"
        ],
        [
         "IPS Panel Retina Display 2304x1440",
         "6"
        ],
        [
         "IPS Panel Retina Display 2560x1600",
         "6"
        ],
        [
         "Touchscreen 2256x1504",
         "6"
        ],
        [
         "IPS Panel Quad HD+ / Touchscreen 3200x1800",
         "6"
        ],
        [
         "IPS Panel Touchscreen 2560x1440",
         "5"
        ],
        [
         "IPS Panel Retina Display 2880x1800",
         "4"
        ],
        [
         "1440x900",
         "4"
        ],
        [
         "IPS Panel Touchscreen 1920x1200",
         "4"
        ],
        [
         "IPS Panel 2560x1440",
         "4"
        ],
        [
         "IPS Panel Quad HD+ 2560x1440",
         "3"
        ],
        [
         "IPS Panel Touchscreen 1366x768",
         "3"
        ],
        [
         "Quad HD+ 3200x1800",
         "3"
        ],
        [
         "1920x1080",
         "3"
        ],
        [
         "2560x1440",
         "3"
        ],
        [
         "Touchscreen 2400x1600",
         "3"
        ],
        [
         "IPS Panel Quad HD+ 3200x1800",
         "2"
        ],
        [
         "IPS Panel Full HD 2160x1440",
         "2"
        ],
        [
         "IPS Panel Touchscreen / 4K Ultra HD 3840x2160",
         "2"
        ],
        [
         "IPS Panel Full HD 1366x768",
         "1"
        ],
        [
         "Touchscreen / Quad HD+ 3200x1800",
         "1"
        ],
        [
         "IPS Panel Retina Display 2736x1824",
         "1"
        ],
        [
         "IPS Panel Full HD 2560x1440",
         "1"
        ],
        [
         "IPS Panel Full HD 1920x1200",
         "1"
        ],
        [
         "Touchscreen / Full HD 1920x1080",
         "1"
        ],
        [
         "Touchscreen / 4K Ultra HD 3840x2160",
         "1"
        ],
        [
         "IPS Panel Touchscreen 2400x1600",
         "1"
        ]
       ],
       "shape": {
        "columns": 1,
        "rows": 40
       }
      },
      "text/plain": [
       "ScreenResolution\n",
       "Full HD 1920x1080                                507\n",
       "1366x768                                         281\n",
       "IPS Panel Full HD 1920x1080                      230\n",
       "IPS Panel Full HD / Touchscreen 1920x1080         53\n",
       "Full HD / Touchscreen 1920x1080                   47\n",
       "1600x900                                          23\n",
       "Touchscreen 1366x768                              16\n",
       "Quad HD+ / Touchscreen 3200x1800                  15\n",
       "IPS Panel 4K Ultra HD 3840x2160                   12\n",
       "IPS Panel 4K Ultra HD / Touchscreen 3840x2160     11\n",
       "4K Ultra HD / Touchscreen 3840x2160               10\n",
       "IPS Panel 1366x768                                 7\n",
       "Touchscreen 2560x1440                              7\n",
       "4K Ultra HD 3840x2160                              7\n",
       "IPS Panel Retina Display 2304x1440                 6\n",
       "IPS Panel Retina Display 2560x1600                 6\n",
       "Touchscreen 2256x1504                              6\n",
       "IPS Panel Quad HD+ / Touchscreen 3200x1800         6\n",
       "IPS Panel Touchscreen 2560x1440                    5\n",
       "IPS Panel Retina Display 2880x1800                 4\n",
       "1440x900                                           4\n",
       "IPS Panel Touchscreen 1920x1200                    4\n",
       "IPS Panel 2560x1440                                4\n",
       "IPS Panel Quad HD+ 2560x1440                       3\n",
       "IPS Panel Touchscreen 1366x768                     3\n",
       "Quad HD+ 3200x1800                                 3\n",
       "1920x1080                                          3\n",
       "2560x1440                                          3\n",
       "Touchscreen 2400x1600                              3\n",
       "IPS Panel Quad HD+ 3200x1800                       2\n",
       "IPS Panel Full HD 2160x1440                        2\n",
       "IPS Panel Touchscreen / 4K Ultra HD 3840x2160      2\n",
       "IPS Panel Full HD 1366x768                         1\n",
       "Touchscreen / Quad HD+ 3200x1800                   1\n",
       "IPS Panel Retina Display 2736x1824                 1\n",
       "IPS Panel Full HD 2560x1440                        1\n",
       "IPS Panel Full HD 1920x1200                        1\n",
       "Touchscreen / Full HD 1920x1080                    1\n",
       "Touchscreen / 4K Ultra HD 3840x2160                1\n",
       "IPS Panel Touchscreen 2400x1600                    1\n",
       "Name: count, dtype: int64"
      ]
     },
     "execution_count": 20,
     "metadata": {},
     "output_type": "execute_result"
    }
   ],
   "source": [
    "\n",
    "df['ScreenResolution'].value_counts()"
   ]
  },
  {
   "cell_type": "code",
   "execution_count": 21,
   "id": "ef208013",
   "metadata": {},
   "outputs": [],
   "source": [
    "\n",
    "df['Touchscreen'] = df['ScreenResolution'].apply(lambda x:1 if 'Touchscreen' in x else 0)"
   ]
  },
  {
   "cell_type": "code",
   "execution_count": 22,
   "id": "cb0cb9c2",
   "metadata": {},
   "outputs": [
    {
     "data": {
      "application/vnd.microsoft.datawrangler.viewer.v0+json": {
       "columns": [
        {
         "name": "index",
         "rawType": "int64",
         "type": "integer"
        },
        {
         "name": "Company",
         "rawType": "object",
         "type": "string"
        },
        {
         "name": "TypeName",
         "rawType": "object",
         "type": "string"
        },
        {
         "name": "Inches",
         "rawType": "float64",
         "type": "float"
        },
        {
         "name": "ScreenResolution",
         "rawType": "object",
         "type": "string"
        },
        {
         "name": "Cpu",
         "rawType": "object",
         "type": "string"
        },
        {
         "name": "Ram",
         "rawType": "int32",
         "type": "integer"
        },
        {
         "name": "Memory",
         "rawType": "object",
         "type": "string"
        },
        {
         "name": "Gpu",
         "rawType": "object",
         "type": "string"
        },
        {
         "name": "OpSys",
         "rawType": "object",
         "type": "string"
        },
        {
         "name": "Weight",
         "rawType": "float32",
         "type": "float"
        },
        {
         "name": "Price",
         "rawType": "float64",
         "type": "float"
        },
        {
         "name": "Touchscreen",
         "rawType": "int64",
         "type": "integer"
        }
       ],
       "ref": "072b4328-bce8-4a3e-b3a6-257145eb2494",
       "rows": [
        [
         "673",
         "Lenovo",
         "Notebook",
         "15.6",
         "1366x768",
         "AMD E-Series E2-9000 2.2GHz",
         "4",
         "128GB SSD",
         "AMD Radeon R2 Graphics",
         "Windows 10",
         "2.2",
         "18594.72",
         "0"
        ],
        [
         "1022",
         "HP",
         "Notebook",
         "13.3",
         "IPS Panel Full HD 1920x1080",
         "Intel Core i5 7200U 2.5GHz",
         "8",
         "256GB SSD",
         "Intel HD Graphics 620",
         "Windows 10",
         "1.11",
         "61218.72",
         "0"
        ],
        [
         "664",
         "MSI",
         "Gaming",
         "17.3",
         "Full HD 1920x1080",
         "Intel Core i7 7700HQ 2.8GHz",
         "8",
         "128GB SSD +  1TB HDD",
         "Nvidia GeForce GTX 1060",
         "Windows 10",
         "2.7",
         "79215.1056",
         "0"
        ],
        [
         "1220",
         "Lenovo",
         "Notebook",
         "15.6",
         "IPS Panel Full HD 1920x1080",
         "Intel Core i7 6600U 2.6GHz",
         "8",
         "256GB SSD",
         "Intel HD Graphics 520",
         "Windows 10",
         "2.3",
         "81465.12",
         "0"
        ],
        [
         "130",
         "Dell",
         "Notebook",
         "15.6",
         "1366x768",
         "Intel Core i5 7200U 2.5GHz",
         "8",
         "1TB HDD",
         "AMD Radeon R7 M445",
         "Windows 10",
         "2.36",
         "34045.3872",
         "0"
        ]
       ],
       "shape": {
        "columns": 12,
        "rows": 5
       }
      },
      "text/html": [
       "<div>\n",
       "<style scoped>\n",
       "    .dataframe tbody tr th:only-of-type {\n",
       "        vertical-align: middle;\n",
       "    }\n",
       "\n",
       "    .dataframe tbody tr th {\n",
       "        vertical-align: top;\n",
       "    }\n",
       "\n",
       "    .dataframe thead th {\n",
       "        text-align: right;\n",
       "    }\n",
       "</style>\n",
       "<table border=\"1\" class=\"dataframe\">\n",
       "  <thead>\n",
       "    <tr style=\"text-align: right;\">\n",
       "      <th></th>\n",
       "      <th>Company</th>\n",
       "      <th>TypeName</th>\n",
       "      <th>Inches</th>\n",
       "      <th>ScreenResolution</th>\n",
       "      <th>Cpu</th>\n",
       "      <th>Ram</th>\n",
       "      <th>Memory</th>\n",
       "      <th>Gpu</th>\n",
       "      <th>OpSys</th>\n",
       "      <th>Weight</th>\n",
       "      <th>Price</th>\n",
       "      <th>Touchscreen</th>\n",
       "    </tr>\n",
       "  </thead>\n",
       "  <tbody>\n",
       "    <tr>\n",
       "      <th>673</th>\n",
       "      <td>Lenovo</td>\n",
       "      <td>Notebook</td>\n",
       "      <td>15.6</td>\n",
       "      <td>1366x768</td>\n",
       "      <td>AMD E-Series E2-9000 2.2GHz</td>\n",
       "      <td>4</td>\n",
       "      <td>128GB SSD</td>\n",
       "      <td>AMD Radeon R2 Graphics</td>\n",
       "      <td>Windows 10</td>\n",
       "      <td>2.20</td>\n",
       "      <td>18594.7200</td>\n",
       "      <td>0</td>\n",
       "    </tr>\n",
       "    <tr>\n",
       "      <th>1022</th>\n",
       "      <td>HP</td>\n",
       "      <td>Notebook</td>\n",
       "      <td>13.3</td>\n",
       "      <td>IPS Panel Full HD 1920x1080</td>\n",
       "      <td>Intel Core i5 7200U 2.5GHz</td>\n",
       "      <td>8</td>\n",
       "      <td>256GB SSD</td>\n",
       "      <td>Intel HD Graphics 620</td>\n",
       "      <td>Windows 10</td>\n",
       "      <td>1.11</td>\n",
       "      <td>61218.7200</td>\n",
       "      <td>0</td>\n",
       "    </tr>\n",
       "    <tr>\n",
       "      <th>664</th>\n",
       "      <td>MSI</td>\n",
       "      <td>Gaming</td>\n",
       "      <td>17.3</td>\n",
       "      <td>Full HD 1920x1080</td>\n",
       "      <td>Intel Core i7 7700HQ 2.8GHz</td>\n",
       "      <td>8</td>\n",
       "      <td>128GB SSD +  1TB HDD</td>\n",
       "      <td>Nvidia GeForce GTX 1060</td>\n",
       "      <td>Windows 10</td>\n",
       "      <td>2.70</td>\n",
       "      <td>79215.1056</td>\n",
       "      <td>0</td>\n",
       "    </tr>\n",
       "    <tr>\n",
       "      <th>1220</th>\n",
       "      <td>Lenovo</td>\n",
       "      <td>Notebook</td>\n",
       "      <td>15.6</td>\n",
       "      <td>IPS Panel Full HD 1920x1080</td>\n",
       "      <td>Intel Core i7 6600U 2.6GHz</td>\n",
       "      <td>8</td>\n",
       "      <td>256GB SSD</td>\n",
       "      <td>Intel HD Graphics 520</td>\n",
       "      <td>Windows 10</td>\n",
       "      <td>2.30</td>\n",
       "      <td>81465.1200</td>\n",
       "      <td>0</td>\n",
       "    </tr>\n",
       "    <tr>\n",
       "      <th>130</th>\n",
       "      <td>Dell</td>\n",
       "      <td>Notebook</td>\n",
       "      <td>15.6</td>\n",
       "      <td>1366x768</td>\n",
       "      <td>Intel Core i5 7200U 2.5GHz</td>\n",
       "      <td>8</td>\n",
       "      <td>1TB HDD</td>\n",
       "      <td>AMD Radeon R7 M445</td>\n",
       "      <td>Windows 10</td>\n",
       "      <td>2.36</td>\n",
       "      <td>34045.3872</td>\n",
       "      <td>0</td>\n",
       "    </tr>\n",
       "  </tbody>\n",
       "</table>\n",
       "</div>"
      ],
      "text/plain": [
       "     Company  TypeName  Inches             ScreenResolution  \\\n",
       "673   Lenovo  Notebook    15.6                     1366x768   \n",
       "1022      HP  Notebook    13.3  IPS Panel Full HD 1920x1080   \n",
       "664      MSI    Gaming    17.3            Full HD 1920x1080   \n",
       "1220  Lenovo  Notebook    15.6  IPS Panel Full HD 1920x1080   \n",
       "130     Dell  Notebook    15.6                     1366x768   \n",
       "\n",
       "                              Cpu  Ram                Memory  \\\n",
       "673   AMD E-Series E2-9000 2.2GHz    4             128GB SSD   \n",
       "1022   Intel Core i5 7200U 2.5GHz    8             256GB SSD   \n",
       "664   Intel Core i7 7700HQ 2.8GHz    8  128GB SSD +  1TB HDD   \n",
       "1220   Intel Core i7 6600U 2.6GHz    8             256GB SSD   \n",
       "130    Intel Core i5 7200U 2.5GHz    8               1TB HDD   \n",
       "\n",
       "                          Gpu       OpSys  Weight       Price  Touchscreen  \n",
       "673    AMD Radeon R2 Graphics  Windows 10    2.20  18594.7200            0  \n",
       "1022    Intel HD Graphics 620  Windows 10    1.11  61218.7200            0  \n",
       "664   Nvidia GeForce GTX 1060  Windows 10    2.70  79215.1056            0  \n",
       "1220    Intel HD Graphics 520  Windows 10    2.30  81465.1200            0  \n",
       "130        AMD Radeon R7 M445  Windows 10    2.36  34045.3872            0  "
      ]
     },
     "execution_count": 22,
     "metadata": {},
     "output_type": "execute_result"
    }
   ],
   "source": [
    "df.sample(5)"
   ]
  },
  {
   "cell_type": "code",
   "execution_count": 23,
   "id": "ec6634f2",
   "metadata": {},
   "outputs": [
    {
     "data": {
      "text/plain": [
       "<Axes: xlabel='Touchscreen'>"
      ]
     },
     "execution_count": 23,
     "metadata": {},
     "output_type": "execute_result"
    },
    {
     "data": {
      "image/png": "[encoded data removed]",
      "text/plain": [
       "<Figure size 640x480 with 1 Axes>"
      ]
     },
     "metadata": {},
     "output_type": "display_data"
    }
   ],
   "source": [
    "df['Touchscreen'].value_counts().plot(kind='bar')"
   ]
  },
  {
   "cell_type": "code",
   "execution_count": 24,
   "id": "618dda0a",
   "metadata": {},
   "outputs": [
    {
     "data": {
      "text/plain": [
       "<Axes: xlabel='Touchscreen', ylabel='Price'>"
      ]
     },
     "execution_count": 24,
     "metadata": {},
     "output_type": "execute_result"
    },
    {
     "data": {
      "image/png": "[encoded data removed]",
      "text/plain": [
       "<Figure size 640x480 with 1 Axes>"
      ]
     },
     "metadata": {},
     "output_type": "display_data"
    }
   ],
   "source": [
    "\n",
    "sns.barplot(x=df['Touchscreen'],y=df['Price'])"
   ]
  },
  {
   "cell_type": "code",
   "execution_count": 25,
   "id": "137aa5a7",
   "metadata": {},
   "outputs": [],
   "source": [
    "\n",
    "df['Ips'] = df['ScreenResolution'].apply(lambda x:1 if 'IPS' in x else 0)"
   ]
  },
  {
   "cell_type": "code",
   "execution_count": 26,
   "id": "44787d7d",
   "metadata": {},
   "outputs": [
    {
     "data": {
      "application/vnd.microsoft.datawrangler.viewer.v0+json": {
       "columns": [
        {
         "name": "index",
         "rawType": "int64",
         "type": "integer"
        },
        {
         "name": "Company",
         "rawType": "object",
         "type": "string"
        },
        {
         "name": "TypeName",
         "rawType": "object",
         "type": "string"
        },
        {
         "name": "Inches",
         "rawType": "float64",
         "type": "float"
        },
        {
         "name": "ScreenResolution",
         "rawType": "object",
         "type": "string"
        },
        {
         "name": "Cpu",
         "rawType": "object",
         "type": "string"
        },
        {
         "name": "Ram",
         "rawType": "int32",
         "type": "integer"
        },
        {
         "name": "Memory",
         "rawType": "object",
         "type": "string"
        },
        {
         "name": "Gpu",
         "rawType": "object",
         "type": "string"
        },
        {
         "name": "OpSys",
         "rawType": "object",
         "type": "string"
        },
        {
         "name": "Weight",
         "rawType": "float32",
         "type": "float"
        },
        {
         "name": "Price",
         "rawType": "float64",
         "type": "float"
        },
        {
         "name": "Touchscreen",
         "rawType": "int64",
         "type": "integer"
        },
        {
         "name": "Ips",
         "rawType": "int64",
         "type": "integer"
        }
       ],
       "ref": "3b8a68e0-c9b5-4057-8559-ab1ef2ec2cc4",
       "rows": [
        [
         "0",
         "Apple",
         "Ultrabook",
         "13.3",
         "IPS Panel Retina Display 2560x1600",
         "Intel Core i5 2.3GHz",
         "8",
         "128GB SSD",
         "Intel Iris Plus Graphics 640",
         "macOS",
         "1.37",
         "71378.6832",
         "0",
         "1"
        ],
        [
         "1",
         "Apple",
         "Ultrabook",
         "13.3",
         "1440x900",
         "Intel Core i5 1.8GHz",
         "8",
         "128GB Flash Storage",
         "Intel HD Graphics 6000",
         "macOS",
         "1.34",
         "47895.5232",
         "0",
         "0"
        ],
        [
         "2",
         "HP",
         "Notebook",
         "15.6",
         "Full HD 1920x1080",
         "Intel Core i5 7200U 2.5GHz",
         "8",
         "256GB SSD",
         "Intel HD Graphics 620",
         "No OS",
         "1.86",
         "30636.0",
         "0",
         "0"
        ],
        [
         "3",
         "Apple",
         "Ultrabook",
         "15.4",
         "IPS Panel Retina Display 2880x1800",
         "Intel Core i7 2.7GHz",
         "16",
         "512GB SSD",
         "AMD Radeon Pro 455",
         "macOS",
         "1.83",
         "135195.33599999998",
         "0",
         "1"
        ],
        [
         "4",
         "Apple",
         "Ultrabook",
         "13.3",
         "IPS Panel Retina Display 2560x1600",
         "Intel Core i5 3.1GHz",
         "8",
         "256GB SSD",
         "Intel Iris Plus Graphics 650",
         "macOS",
         "1.37",
         "96095.808",
         "0",
         "1"
        ]
       ],
       "shape": {
        "columns": 13,
        "rows": 5
       }
      },
      "text/html": [
       "<div>\n",
       "<style scoped>\n",
       "    .dataframe tbody tr th:only-of-type {\n",
       "        vertical-align: middle;\n",
       "    }\n",
       "\n",
       "    .dataframe tbody tr th {\n",
       "        vertical-align: top;\n",
       "    }\n",
       "\n",
       "    .dataframe thead th {\n",
       "        text-align: right;\n",
       "    }\n",
       "</style>\n",
       "<table border=\"1\" class=\"dataframe\">\n",
       "  <thead>\n",
       "    <tr style=\"text-align: right;\">\n",
       "      <th></th>\n",
       "      <th>Company</th>\n",
       "      <th>TypeName</th>\n",
       "      <th>Inches</th>\n",
       "      <th>ScreenResolution</th>\n",
       "      <th>Cpu</th>\n",
       "      <th>Ram</th>\n",
       "      <th>Memory</th>\n",
       "      <th>Gpu</th>\n",
       "      <th>OpSys</th>\n",
       "      <th>Weight</th>\n",
       "      <th>Price</th>\n",
       "      <th>Touchscreen</th>\n",
       "      <th>Ips</th>\n",
       "    </tr>\n",
       "  </thead>\n",
       "  <tbody>\n",
       "    <tr>\n",
       "      <th>0</th>\n",
       "      <td>Apple</td>\n",
       "      <td>Ultrabook</td>\n",
       "      <td>13.3</td>\n",
       "      <td>IPS Panel Retina Display 2560x1600</td>\n",
       "      <td>Intel Core i5 2.3GHz</td>\n",
       "      <td>8</td>\n",
       "      <td>128GB SSD</td>\n",
       "      <td>Intel Iris Plus Graphics 640</td>\n",
       "      <td>macOS</td>\n",
       "      <td>1.37</td>\n",
       "      <td>71378.6832</td>\n",
       "      <td>0</td>\n",
       "      <td>1</td>\n",
       "    </tr>\n",
       "    <tr>\n",
       "      <th>1</th>\n",
       "      <td>Apple</td>\n",
       "      <td>Ultrabook</td>\n",
       "      <td>13.3</td>\n",
       "      <td>1440x900</td>\n",
       "      <td>Intel Core i5 1.8GHz</td>\n",
       "      <td>8</td>\n",
       "      <td>128GB Flash Storage</td>\n",
       "      <td>Intel HD Graphics 6000</td>\n",
       "      <td>macOS</td>\n",
       "      <td>1.34</td>\n",
       "      <td>47895.5232</td>\n",
       "      <td>0</td>\n",
       "      <td>0</td>\n",
       "    </tr>\n",
       "    <tr>\n",
       "      <th>2</th>\n",
       "      <td>HP</td>\n",
       "      <td>Notebook</td>\n",
       "      <td>15.6</td>\n",
       "      <td>Full HD 1920x1080</td>\n",
       "      <td>Intel Core i5 7200U 2.5GHz</td>\n",
       "      <td>8</td>\n",
       "      <td>256GB SSD</td>\n",
       "      <td>Intel HD Graphics 620</td>\n",
       "      <td>No OS</td>\n",
       "      <td>1.86</td>\n",
       "      <td>30636.0000</td>\n",
       "      <td>0</td>\n",
       "      <td>0</td>\n",
       "    </tr>\n",
       "    <tr>\n",
       "      <th>3</th>\n",
       "      <td>Apple</td>\n",
       "      <td>Ultrabook</td>\n",
       "      <td>15.4</td>\n",
       "      <td>IPS Panel Retina Display 2880x1800</td>\n",
       "      <td>Intel Core i7 2.7GHz</td>\n",
       "      <td>16</td>\n",
       "      <td>512GB SSD</td>\n",
       "      <td>AMD Radeon Pro 455</td>\n",
       "      <td>macOS</td>\n",
       "      <td>1.83</td>\n",
       "      <td>135195.3360</td>\n",
       "      <td>0</td>\n",
       "      <td>1</td>\n",
       "    </tr>\n",
       "    <tr>\n",
       "      <th>4</th>\n",
       "      <td>Apple</td>\n",
       "      <td>Ultrabook</td>\n",
       "      <td>13.3</td>\n",
       "      <td>IPS Panel Retina Display 2560x1600</td>\n",
       "      <td>Intel Core i5 3.1GHz</td>\n",
       "      <td>8</td>\n",
       "      <td>256GB SSD</td>\n",
       "      <td>Intel Iris Plus Graphics 650</td>\n",
       "      <td>macOS</td>\n",
       "      <td>1.37</td>\n",
       "      <td>96095.8080</td>\n",
       "      <td>0</td>\n",
       "      <td>1</td>\n",
       "    </tr>\n",
       "  </tbody>\n",
       "</table>\n",
       "</div>"
      ],
      "text/plain": [
       "  Company   TypeName  Inches                    ScreenResolution  \\\n",
       "0   Apple  Ultrabook    13.3  IPS Panel Retina Display 2560x1600   \n",
       "1   Apple  Ultrabook    13.3                            1440x900   \n",
       "2      HP   Notebook    15.6                   Full HD 1920x1080   \n",
       "3   Apple  Ultrabook    15.4  IPS Panel Retina Display 2880x1800   \n",
       "4   Apple  Ultrabook    13.3  IPS Panel Retina Display 2560x1600   \n",
       "\n",
       "                          Cpu  Ram               Memory  \\\n",
       "0        Intel Core i5 2.3GHz    8            128GB SSD   \n",
       "1        Intel Core i5 1.8GHz    8  128GB Flash Storage   \n",
       "2  Intel Core i5 7200U 2.5GHz    8            256GB SSD   \n",
       "3        Intel Core i7 2.7GHz   16            512GB SSD   \n",
       "4        Intel Core i5 3.1GHz    8            256GB SSD   \n",
       "\n",
       "                            Gpu  OpSys  Weight        Price  Touchscreen  Ips  \n",
       "0  Intel Iris Plus Graphics 640  macOS    1.37   71378.6832            0    1  \n",
       "1        Intel HD Graphics 6000  macOS    1.34   47895.5232            0    0  \n",
       "2         Intel HD Graphics 620  No OS    1.86   30636.0000            0    0  \n",
       "3            AMD Radeon Pro 455  macOS    1.83  135195.3360            0    1  \n",
       "4  Intel Iris Plus Graphics 650  macOS    1.37   96095.8080            0    1  "
      ]
     },
     "execution_count": 26,
     "metadata": {},
     "output_type": "execute_result"
    }
   ],
   "source": [
    "\n",
    "df.head()"
   ]
  },
  {
   "cell_type": "code",
   "execution_count": 27,
   "id": "5e0b5050",
   "metadata": {},
   "outputs": [
    {
     "data": {
      "text/plain": [
       "<Axes: xlabel='Ips'>"
      ]
     },
     "execution_count": 27,
     "metadata": {},
     "output_type": "execute_result"
    },
    {
     "data": {
      "image/png": "[encoded data removed]",
      "text/plain": [
       "<Figure size 640x480 with 1 Axes>"
      ]
     },
     "metadata": {},
     "output_type": "display_data"
    }
   ],
   "source": [
    "\n",
    "df['Ips'].value_counts().plot(kind='bar')"
   ]
  },
  {
   "cell_type": "code",
   "execution_count": 28,
   "id": "483361a1",
   "metadata": {},
   "outputs": [
    {
     "data": {
      "text/plain": [
       "<Axes: xlabel='Ips', ylabel='Price'>"
      ]
     },
     "execution_count": 28,
     "metadata": {},
     "output_type": "execute_result"
    },
    {
     "data": {
      "image/png": "[encoded data removed]",
      "text/plain": [
       "<Figure size 640x480 with 1 Axes>"
      ]
     },
     "metadata": {},
     "output_type": "display_data"
    }
   ],
   "source": [
    "sns.barplot(x=df['Ips'],y=df['Price'])"
   ]
  },
  {
   "cell_type": "code",
   "execution_count": 29,
   "id": "381860e0",
   "metadata": {},
   "outputs": [],
   "source": [
    "new = df['ScreenResolution'].str.split('x',n=1,expand=True)"
   ]
  },
  {
   "cell_type": "code",
   "execution_count": 30,
   "id": "8be964f6",
   "metadata": {},
   "outputs": [
    {
     "data": {
      "application/vnd.microsoft.datawrangler.viewer.v0+json": {
       "columns": [
        {
         "name": "index",
         "rawType": "int64",
         "type": "integer"
        },
        {
         "name": "Company",
         "rawType": "object",
         "type": "string"
        },
        {
         "name": "TypeName",
         "rawType": "object",
         "type": "string"
        },
        {
         "name": "Inches",
         "rawType": "float64",
         "type": "float"
        },
        {
         "name": "ScreenResolution",
         "rawType": "object",
         "type": "string"
        },
        {
         "name": "Cpu",
         "rawType": "object",
         "type": "string"
        },
        {
         "name": "Ram",
         "rawType": "int32",
         "type": "integer"
        },
        {
         "name": "Memory",
         "rawType": "object",
         "type": "string"
        },
        {
         "name": "Gpu",
         "rawType": "object",
         "type": "string"
        },
        {
         "name": "OpSys",
         "rawType": "object",
         "type": "string"
        },
        {
         "name": "Weight",
         "rawType": "float32",
         "type": "float"
        },
        {
         "name": "Price",
         "rawType": "float64",
         "type": "float"
        },
        {
         "name": "Touchscreen",
         "rawType": "int64",
         "type": "integer"
        },
        {
         "name": "Ips",
         "rawType": "int64",
         "type": "integer"
        },
        {
         "name": "X_res",
         "rawType": "object",
         "type": "string"
        },
        {
         "name": "Y_res",
         "rawType": "object",
         "type": "string"
        }
       ],
       "ref": "0212f455-8c90-412e-9a2b-c0dbff3885fb",
       "rows": [
        [
         "842",
         "HP",
         "Notebook",
         "17.3",
         "1600x900",
         "Intel Core i5 7200U 2.5GHz",
         "8",
         "1TB HDD",
         "Nvidia GeForce 930MX",
         "Windows 10",
         "2.63",
         "48484.8",
         "0",
         "0",
         "1600",
         "900"
        ],
        [
         "493",
         "Acer",
         "Notebook",
         "15.6",
         "1366x768",
         "AMD A10-Series 9620P 2.5GHz",
         "8",
         "1TB HDD",
         "AMD Radeon RX 540",
         "Windows 10",
         "2.2",
         "30849.12",
         "0",
         "0",
         "1366",
         "768"
        ],
        [
         "592",
         "Dell",
         "2 in 1 Convertible",
         "11.6",
         "Touchscreen 1366x768",
         "Intel Core M 7Y30 1.0GHz",
         "4",
         "128GB SSD",
         "Intel HD Graphics 615",
         "Windows 10",
         "1.39",
         "32127.84",
         "1",
         "0",
         "Touchscreen 1366",
         "768"
        ],
        [
         "433",
         "Lenovo",
         "Workstation",
         "15.6",
         "IPS Panel 4K Ultra HD 3840x2160",
         "Intel Core i7 7600U 2.8GHz",
         "16",
         "512GB SSD",
         "Nvidia GeForce 940MX",
         "Windows 10",
         "2.3",
         "130269.6",
         "0",
         "1",
         "IPS Panel 4K Ultra HD 3840",
         "2160"
        ],
        [
         "213",
         "Lenovo",
         "Notebook",
         "15.6",
         "Full HD 1920x1080",
         "Intel Core i5 7200U 2.5GHz",
         "8",
         "256GB SSD",
         "Intel HD Graphics 620",
         "No OS",
         "2.2",
         "29250.72",
         "0",
         "0",
         "Full HD 1920",
         "1080"
        ]
       ],
       "shape": {
        "columns": 15,
        "rows": 5
       }
      },
      "text/html": [
       "<div>\n",
       "<style scoped>\n",
       "    .dataframe tbody tr th:only-of-type {\n",
       "        vertical-align: middle;\n",
       "    }\n",
       "\n",
       "    .dataframe tbody tr th {\n",
       "        vertical-align: top;\n",
       "    }\n",
       "\n",
       "    .dataframe thead th {\n",
       "        text-align: right;\n",
       "    }\n",
       "</style>\n",
       "<table border=\"1\" class=\"dataframe\">\n",
       "  <thead>\n",
       "    <tr style=\"text-align: right;\">\n",
       "      <th></th>\n",
       "      <th>Company</th>\n",
       "      <th>TypeName</th>\n",
       "      <th>Inches</th>\n",
       "      <th>ScreenResolution</th>\n",
       "      <th>Cpu</th>\n",
       "      <th>Ram</th>\n",
       "      <th>Memory</th>\n",
       "      <th>Gpu</th>\n",
       "      <th>OpSys</th>\n",
       "      <th>Weight</th>\n",
       "      <th>Price</th>\n",
       "      <th>Touchscreen</th>\n",
       "      <th>Ips</th>\n",
       "      <th>X_res</th>\n",
       "      <th>Y_res</th>\n",
       "    </tr>\n",
       "  </thead>\n",
       "  <tbody>\n",
       "    <tr>\n",
       "      <th>842</th>\n",
       "      <td>HP</td>\n",
       "      <td>Notebook</td>\n",
       "      <td>17.3</td>\n",
       "      <td>1600x900</td>\n",
       "      <td>Intel Core i5 7200U 2.5GHz</td>\n",
       "      <td>8</td>\n",
       "      <td>1TB HDD</td>\n",
       "      <td>Nvidia GeForce 930MX</td>\n",
       "      <td>Windows 10</td>\n",
       "      <td>2.63</td>\n",
       "      <td>48484.80</td>\n",
       "      <td>0</td>\n",
       "      <td>0</td>\n",
       "      <td>1600</td>\n",
       "      <td>900</td>\n",
       "    </tr>\n",
       "    <tr>\n",
       "      <th>493</th>\n",
       "      <td>Acer</td>\n",
       "      <td>Notebook</td>\n",
       "      <td>15.6</td>\n",
       "      <td>1366x768</td>\n",
       "      <td>AMD A10-Series 9620P 2.5GHz</td>\n",
       "      <td>8</td>\n",
       "      <td>1TB HDD</td>\n",
       "      <td>AMD Radeon RX 540</td>\n",
       "      <td>Windows 10</td>\n",
       "      <td>2.20</td>\n",
       "      <td>30849.12</td>\n",
       "      <td>0</td>\n",
       "      <td>0</td>\n",
       "      <td>1366</td>\n",
       "      <td>768</td>\n",
       "    </tr>\n",
       "    <tr>\n",
       "      <th>592</th>\n",
       "      <td>Dell</td>\n",
       "      <td>2 in 1 Convertible</td>\n",
       "      <td>11.6</td>\n",
       "      <td>Touchscreen 1366x768</td>\n",
       "      <td>Intel Core M 7Y30 1.0GHz</td>\n",
       "      <td>4</td>\n",
       "      <td>128GB SSD</td>\n",
       "      <td>Intel HD Graphics 615</td>\n",
       "      <td>Windows 10</td>\n",
       "      <td>1.39</td>\n",
       "      <td>32127.84</td>\n",
       "      <td>1</td>\n",
       "      <td>0</td>\n",
       "      <td>Touchscreen 1366</td>\n",
       "      <td>768</td>\n",
       "    </tr>\n",
       "    <tr>\n",
       "      <th>433</th>\n",
       "      <td>Lenovo</td>\n",
       "      <td>Workstation</td>\n",
       "      <td>15.6</td>\n",
       "      <td>IPS Panel 4K Ultra HD 3840x2160</td>\n",
       "      <td>Intel Core i7 7600U 2.8GHz</td>\n",
       "      <td>16</td>\n",
       "      <td>512GB SSD</td>\n",
       "      <td>Nvidia GeForce 940MX</td>\n",
       "      <td>Windows 10</td>\n",
       "      <td>2.30</td>\n",
       "      <td>130269.60</td>\n",
       "      <td>0</td>\n",
       "      <td>1</td>\n",
       "      <td>IPS Panel 4K Ultra HD 3840</td>\n",
       "      <td>2160</td>\n",
       "    </tr>\n",
       "    <tr>\n",
       "      <th>213</th>\n",
       "      <td>Lenovo</td>\n",
       "      <td>Notebook</td>\n",
       "      <td>15.6</td>\n",
       "      <td>Full HD 1920x1080</td>\n",
       "      <td>Intel Core i5 7200U 2.5GHz</td>\n",
       "      <td>8</td>\n",
       "      <td>256GB SSD</td>\n",
       "      <td>Intel HD Graphics 620</td>\n",
       "      <td>No OS</td>\n",
       "      <td>2.20</td>\n",
       "      <td>29250.72</td>\n",
       "      <td>0</td>\n",
       "      <td>0</td>\n",
       "      <td>Full HD 1920</td>\n",
       "      <td>1080</td>\n",
       "    </tr>\n",
       "  </tbody>\n",
       "</table>\n",
       "</div>"
      ],
      "text/plain": [
       "    Company            TypeName  Inches                 ScreenResolution  \\\n",
       "842      HP            Notebook    17.3                         1600x900   \n",
       "493    Acer            Notebook    15.6                         1366x768   \n",
       "592    Dell  2 in 1 Convertible    11.6             Touchscreen 1366x768   \n",
       "433  Lenovo         Workstation    15.6  IPS Panel 4K Ultra HD 3840x2160   \n",
       "213  Lenovo            Notebook    15.6                Full HD 1920x1080   \n",
       "\n",
       "                             Cpu  Ram     Memory                    Gpu  \\\n",
       "842   Intel Core i5 7200U 2.5GHz    8    1TB HDD   Nvidia GeForce 930MX   \n",
       "493  AMD A10-Series 9620P 2.5GHz    8    1TB HDD      AMD Radeon RX 540   \n",
       "592     Intel Core M 7Y30 1.0GHz    4  128GB SSD  Intel HD Graphics 615   \n",
       "433   Intel Core i7 7600U 2.8GHz   16  512GB SSD   Nvidia GeForce 940MX   \n",
       "213   Intel Core i5 7200U 2.5GHz    8  256GB SSD  Intel HD Graphics 620   \n",
       "\n",
       "          OpSys  Weight      Price  Touchscreen  Ips  \\\n",
       "842  Windows 10    2.63   48484.80            0    0   \n",
       "493  Windows 10    2.20   30849.12            0    0   \n",
       "592  Windows 10    1.39   32127.84            1    0   \n",
       "433  Windows 10    2.30  130269.60            0    1   \n",
       "213       No OS    2.20   29250.72            0    0   \n",
       "\n",
       "                          X_res Y_res  \n",
       "842                        1600   900  \n",
       "493                        1366   768  \n",
       "592            Touchscreen 1366   768  \n",
       "433  IPS Panel 4K Ultra HD 3840  2160  \n",
       "213                Full HD 1920  1080  "
      ]
     },
     "execution_count": 30,
     "metadata": {},
     "output_type": "execute_result"
    }
   ],
   "source": [
    "df['X_res'] = new[0]\n",
    "df['Y_res'] = new[1]\n",
    "df.sample(5)"
   ]
  },
  {
   "cell_type": "code",
   "execution_count": 34,
   "id": "1be2f348",
   "metadata": {},
   "outputs": [],
   "source": [
    "df['X_res'] = df['X_res'].str.replace(',','').str.findall(r'(\\d+\\.?\\d+)').apply(lambda x:x[0])"
   ]
  },
  {
   "cell_type": "code",
   "execution_count": 37,
   "id": "4aececdb",
   "metadata": {},
   "outputs": [
    {
     "data": {
      "application/vnd.microsoft.datawrangler.viewer.v0+json": {
       "columns": [
        {
         "name": "index",
         "rawType": "int64",
         "type": "integer"
        },
        {
         "name": "Company",
         "rawType": "object",
         "type": "string"
        },
        {
         "name": "TypeName",
         "rawType": "object",
         "type": "string"
        },
        {
         "name": "Inches",
         "rawType": "float64",
         "type": "float"
        },
        {
         "name": "ScreenResolution",
         "rawType": "object",
         "type": "string"
        },
        {
         "name": "Cpu",
         "rawType": "object",
         "type": "string"
        },
        {
         "name": "Ram",
         "rawType": "int32",
         "type": "integer"
        },
        {
         "name": "Memory",
         "rawType": "object",
         "type": "string"
        },
        {
         "name": "Gpu",
         "rawType": "object",
         "type": "string"
        },
        {
         "name": "OpSys",
         "rawType": "object",
         "type": "string"
        },
        {
         "name": "Weight",
         "rawType": "float32",
         "type": "float"
        },
        {
         "name": "Price",
         "rawType": "float64",
         "type": "float"
        },
        {
         "name": "Touchscreen",
         "rawType": "int64",
         "type": "integer"
        },
        {
         "name": "Ips",
         "rawType": "int64",
         "type": "integer"
        },
        {
         "name": "X_res",
         "rawType": "object",
         "type": "string"
        },
        {
         "name": "Y_res",
         "rawType": "object",
         "type": "string"
        }
       ],
       "ref": "8dadf133-0535-4b21-847a-171fe2c952b1",
       "rows": [
        [
         "0",
         "Apple",
         "Ultrabook",
         "13.3",
         "IPS Panel Retina Display 2560x1600",
         "Intel Core i5 2.3GHz",
         "8",
         "128GB SSD",
         "Intel Iris Plus Graphics 640",
         "macOS",
         "1.37",
         "71378.6832",
         "0",
         "1",
         "2560",
         "1600"
        ],
        [
         "1",
         "Apple",
         "Ultrabook",
         "13.3",
         "1440x900",
         "Intel Core i5 1.8GHz",
         "8",
         "128GB Flash Storage",
         "Intel HD Graphics 6000",
         "macOS",
         "1.34",
         "47895.5232",
         "0",
         "0",
         "1440",
         "900"
        ],
        [
         "2",
         "HP",
         "Notebook",
         "15.6",
         "Full HD 1920x1080",
         "Intel Core i5 7200U 2.5GHz",
         "8",
         "256GB SSD",
         "Intel HD Graphics 620",
         "No OS",
         "1.86",
         "30636.0",
         "0",
         "0",
         "1920",
         "1080"
        ],
        [
         "3",
         "Apple",
         "Ultrabook",
         "15.4",
         "IPS Panel Retina Display 2880x1800",
         "Intel Core i7 2.7GHz",
         "16",
         "512GB SSD",
         "AMD Radeon Pro 455",
         "macOS",
         "1.83",
         "135195.33599999998",
         "0",
         "1",
         "2880",
         "1800"
        ],
        [
         "4",
         "Apple",
         "Ultrabook",
         "13.3",
         "IPS Panel Retina Display 2560x1600",
         "Intel Core i5 3.1GHz",
         "8",
         "256GB SSD",
         "Intel Iris Plus Graphics 650",
         "macOS",
         "1.37",
         "96095.808",
         "0",
         "1",
         "2560",
         "1600"
        ]
       ],
       "shape": {
        "columns": 15,
        "rows": 5
       }
      },
      "text/html": [
       "<div>\n",
       "<style scoped>\n",
       "    .dataframe tbody tr th:only-of-type {\n",
       "        vertical-align: middle;\n",
       "    }\n",
       "\n",
       "    .dataframe tbody tr th {\n",
       "        vertical-align: top;\n",
       "    }\n",
       "\n",
       "    .dataframe thead th {\n",
       "        text-align: right;\n",
       "    }\n",
       "</style>\n",
       "<table border=\"1\" class=\"dataframe\">\n",
       "  <thead>\n",
       "    <tr style=\"text-align: right;\">\n",
       "      <th></th>\n",
       "      <th>Company</th>\n",
       "      <th>TypeName</th>\n",
       "      <th>Inches</th>\n",
       "      <th>ScreenResolution</th>\n",
       "      <th>Cpu</th>\n",
       "      <th>Ram</th>\n",
       "      <th>Memory</th>\n",
       "      <th>Gpu</th>\n",
       "      <th>OpSys</th>\n",
       "      <th>Weight</th>\n",
       "      <th>Price</th>\n",
       "      <th>Touchscreen</th>\n",
       "      <th>Ips</th>\n",
       "      <th>X_res</th>\n",
       "      <th>Y_res</th>\n",
       "    </tr>\n",
       "  </thead>\n",
       "  <tbody>\n",
       "    <tr>\n",
       "      <th>0</th>\n",
       "      <td>Apple</td>\n",
       "      <td>Ultrabook</td>\n",
       "      <td>13.3</td>\n",
       "      <td>IPS Panel Retina Display 2560x1600</td>\n",
       "      <td>Intel Core i5 2.3GHz</td>\n",
       "      <td>8</td>\n",
       "      <td>128GB SSD</td>\n",
       "      <td>Intel Iris Plus Graphics 640</td>\n",
       "      <td>macOS</td>\n",
       "      <td>1.37</td>\n",
       "      <td>71378.6832</td>\n",
       "      <td>0</td>\n",
       "      <td>1</td>\n",
       "      <td>2560</td>\n",
       "      <td>1600</td>\n",
       "    </tr>\n",
       "    <tr>\n",
       "      <th>1</th>\n",
       "      <td>Apple</td>\n",
       "      <td>Ultrabook</td>\n",
       "      <td>13.3</td>\n",
       "      <td>1440x900</td>\n",
       "      <td>Intel Core i5 1.8GHz</td>\n",
       "      <td>8</td>\n",
       "      <td>128GB Flash Storage</td>\n",
       "      <td>Intel HD Graphics 6000</td>\n",
       "      <td>macOS</td>\n",
       "      <td>1.34</td>\n",
       "      <td>47895.5232</td>\n",
       "      <td>0</td>\n",
       "      <td>0</td>\n",
       "      <td>1440</td>\n",
       "      <td>900</td>\n",
       "    </tr>\n",
       "    <tr>\n",
       "      <th>2</th>\n",
       "      <td>HP</td>\n",
       "      <td>Notebook</td>\n",
       "      <td>15.6</td>\n",
       "      <td>Full HD 1920x1080</td>\n",
       "      <td>Intel Core i5 7200U 2.5GHz</td>\n",
       "      <td>8</td>\n",
       "      <td>256GB SSD</td>\n",
       "      <td>Intel HD Graphics 620</td>\n",
       "      <td>No OS</td>\n",
       "      <td>1.86</td>\n",
       "      <td>30636.0000</td>\n",
       "      <td>0</td>\n",
       "      <td>0</td>\n",
       "      <td>1920</td>\n",
       "      <td>1080</td>\n",
       "    </tr>\n",
       "    <tr>\n",
       "      <th>3</th>\n",
       "      <td>Apple</td>\n",
       "      <td>Ultrabook</td>\n",
       "      <td>15.4</td>\n",
       "      <td>IPS Panel Retina Display 2880x1800</td>\n",
       "      <td>Intel Core i7 2.7GHz</td>\n",
       "      <td>16</td>\n",
       "      <td>512GB SSD</td>\n",
       "      <td>AMD Radeon Pro 455</td>\n",
       "      <td>macOS</td>\n",
       "      <td>1.83</td>\n",
       "      <td>135195.3360</td>\n",
       "      <td>0</td>\n",
       "      <td>1</td>\n",
       "      <td>2880</td>\n",
       "      <td>1800</td>\n",
       "    </tr>\n",
       "    <tr>\n",
       "      <th>4</th>\n",
       "      <td>Apple</td>\n",
       "      <td>Ultrabook</td>\n",
       "      <td>13.3</td>\n",
       "      <td>IPS Panel Retina Display 2560x1600</td>\n",
       "      <td>Intel Core i5 3.1GHz</td>\n",
       "      <td>8</td>\n",
       "      <td>256GB SSD</td>\n",
       "      <td>Intel Iris Plus Graphics 650</td>\n",
       "      <td>macOS</td>\n",
       "      <td>1.37</td>\n",
       "      <td>96095.8080</td>\n",
       "      <td>0</td>\n",
       "      <td>1</td>\n",
       "      <td>2560</td>\n",
       "      <td>1600</td>\n",
       "    </tr>\n",
       "  </tbody>\n",
       "</table>\n",
       "</div>"
      ],
      "text/plain": [
       "  Company   TypeName  Inches                    ScreenResolution  \\\n",
       "0   Apple  Ultrabook    13.3  IPS Panel Retina Display 2560x1600   \n",
       "1   Apple  Ultrabook    13.3                            1440x900   \n",
       "2      HP   Notebook    15.6                   Full HD 1920x1080   \n",
       "3   Apple  Ultrabook    15.4  IPS Panel Retina Display 2880x1800   \n",
       "4   Apple  Ultrabook    13.3  IPS Panel Retina Display 2560x1600   \n",
       "\n",
       "                          Cpu  Ram               Memory  \\\n",
       "0        Intel Core i5 2.3GHz    8            128GB SSD   \n",
       "1        Intel Core i5 1.8GHz    8  128GB Flash Storage   \n",
       "2  Intel Core i5 7200U 2.5GHz    8            256GB SSD   \n",
       "3        Intel Core i7 2.7GHz   16            512GB SSD   \n",
       "4        Intel Core i5 3.1GHz    8            256GB SSD   \n",
       "\n",
       "                            Gpu  OpSys  Weight        Price  Touchscreen  Ips  \\\n",
       "0  Intel Iris Plus Graphics 640  macOS    1.37   71378.6832            0    1   \n",
       "1        Intel HD Graphics 6000  macOS    1.34   47895.5232            0    0   \n",
       "2         Intel HD Graphics 620  No OS    1.86   30636.0000            0    0   \n",
       "3            AMD Radeon Pro 455  macOS    1.83  135195.3360            0    1   \n",
       "4  Intel Iris Plus Graphics 650  macOS    1.37   96095.8080            0    1   \n",
       "\n",
       "  X_res Y_res  \n",
       "0  2560  1600  \n",
       "1  1440   900  \n",
       "2  1920  1080  \n",
       "3  2880  1800  \n",
       "4  2560  1600  "
      ]
     },
     "execution_count": 37,
     "metadata": {},
     "output_type": "execute_result"
    }
   ],
   "source": [
    "\n",
    "df.head()"
   ]
  },
  {
   "cell_type": "code",
   "execution_count": 38,
   "id": "f02c1aef",
   "metadata": {},
   "outputs": [],
   "source": [
    "df['X_res'] = df['X_res'].astype('int')\n",
    "df['Y_res'] = df['Y_res'].astype('int')"
   ]
  },
  {
   "cell_type": "code",
   "execution_count": 39,
   "id": "48b77aeb",
   "metadata": {},
   "outputs": [
    {
     "name": "stdout",
     "output_type": "stream",
     "text": [
      "<class 'pandas.core.frame.DataFrame'>\n",
      "RangeIndex: 1303 entries, 0 to 1302\n",
      "Data columns (total 15 columns):\n",
      " #   Column            Non-Null Count  Dtype  \n",
      "---  ------            --------------  -----  \n",
      " 0   Company           1303 non-null   object \n",
      " 1   TypeName          1303 non-null   object \n",
      " 2   Inches            1303 non-null   float64\n",
      " 3   ScreenResolution  1303 non-null   object \n",
      " 4   Cpu               1303 non-null   object \n",
      " 5   Ram               1303 non-null   int32  \n",
      " 6   Memory            1303 non-null   object \n",
      " 7   Gpu               1303 non-null   object \n",
      " 8   OpSys             1303 non-null   object \n",
      " 9   Weight            1303 non-null   float32\n",
      " 10  Price             1303 non-null   float64\n",
      " 11  Touchscreen       1303 non-null   int64  \n",
      " 12  Ips               1303 non-null   int64  \n",
      " 13  X_res             1303 non-null   int64  \n",
      " 14  Y_res             1303 non-null   int64  \n",
      "dtypes: float32(1), float64(2), int32(1), int64(4), object(7)\n",
      "memory usage: 142.6+ KB\n"
     ]
    }
   ],
   "source": [
    "df.info()"
   ]
  },
  {
   "cell_type": "code",
   "execution_count": 41,
   "id": "a6b86743",
   "metadata": {},
   "outputs": [],
   "source": [
    "df['ppi'] = (((df['X_res']**2) + (df['Y_res']**2))**0.5/df['Inches']).astype('float')"
   ]
  },
  {
   "cell_type": "code",
   "execution_count": 43,
   "id": "64458388",
   "metadata": {},
   "outputs": [],
   "source": [
    "# df.corr()['Price']"
   ]
  },
  {
   "cell_type": "code",
   "execution_count": 44,
   "id": "97cd25f8",
   "metadata": {},
   "outputs": [],
   "source": [
    "df.drop(columns=['ScreenResolution'],inplace=True)"
   ]
  },
  {
   "cell_type": "code",
   "execution_count": 45,
   "id": "84b0ca42",
   "metadata": {},
   "outputs": [],
   "source": [
    "\n",
    "df.drop(columns=['Inches','X_res','Y_res'],inplace=True)"
   ]
  },
  {
   "cell_type": "code",
   "execution_count": 46,
   "id": "39dfaf57",
   "metadata": {},
   "outputs": [
    {
     "data": {
      "application/vnd.microsoft.datawrangler.viewer.v0+json": {
       "columns": [
        {
         "name": "Cpu",
         "rawType": "object",
         "type": "string"
        },
        {
         "name": "count",
         "rawType": "int64",
         "type": "integer"
        }
       ],
       "ref": "c0051ba8-f8cd-4118-89e5-ebe19b4bd1f6",
       "rows": [
        [
         "Intel Core i5 7200U 2.5GHz",
         "190"
        ],
        [
         "Intel Core i7 7700HQ 2.8GHz",
         "146"
        ],
        [
         "Intel Core i7 7500U 2.7GHz",
         "134"
        ],
        [
         "Intel Core i7 8550U 1.8GHz",
         "73"
        ],
        [
         "Intel Core i5 8250U 1.6GHz",
         "72"
        ],
        [
         "Intel Core i5 6200U 2.3GHz",
         "68"
        ],
        [
         "Intel Core i3 6006U 2GHz",
         "64"
        ],
        [
         "Intel Core i7 6500U 2.5GHz",
         "49"
        ],
        [
         "Intel Core i7 6700HQ 2.6GHz",
         "43"
        ],
        [
         "Intel Core i3 7100U 2.4GHz",
         "37"
        ],
        [
         "Intel Core i5 7300HQ 2.5GHz",
         "33"
        ],
        [
         "Intel Celeron Dual Core N3350 1.1GHz",
         "30"
        ],
        [
         "Intel Celeron Dual Core N3060 1.6GHz",
         "28"
        ],
        [
         "Intel Core i7 6600U 2.6GHz",
         "18"
        ],
        [
         "Intel Core i3 6006U 2.0GHz",
         "16"
        ],
        [
         "Intel Pentium Quad Core N4200 1.1GHz",
         "14"
        ],
        [
         "Intel Core i5 7300U 2.6GHz",
         "14"
        ],
        [
         "Intel Core i7 7600U 2.8GHz",
         "13"
        ],
        [
         "Intel Pentium Quad Core N3710 1.6GHz",
         "11"
        ],
        [
         "AMD A9-Series 9420 3GHz",
         "11"
        ],
        [
         "Intel Core i5 6300U 2.4GHz",
         "11"
        ],
        [
         "Intel Celeron Dual Core N3050 1.6GHz",
         "11"
        ],
        [
         "Intel Core i7 6820HK 2.7GHz",
         "10"
        ],
        [
         "Intel Core i3 6100U 2.3GHz",
         "9"
        ],
        [
         "Intel Core i3 7130U 2.7GHz",
         "8"
        ],
        [
         "Intel Core i7 7820HK 2.9GHz",
         "7"
        ],
        [
         "AMD A6-Series 9220 2.5GHz",
         "7"
        ],
        [
         "Intel Core i7 6820HQ 2.7GHz",
         "7"
        ],
        [
         "Intel Core i5 6300HQ 2.3GHz",
         "7"
        ],
        [
         "Intel Core i7 7Y75 1.3GHz",
         "5"
        ],
        [
         "Intel Celeron Quad Core N3450 1.1GHz",
         "5"
        ],
        [
         "Intel Core i7 7820HQ 2.9GHz",
         "5"
        ],
        [
         "Intel Core i5 7440HQ 2.8GHz",
         "5"
        ],
        [
         "AMD A12-Series 9720P 3.6GHz",
         "5"
        ],
        [
         "Intel Atom x5-Z8350 1.44GHz",
         "5"
        ],
        [
         "Intel Core M 6Y75 1.2GHz",
         "5"
        ],
        [
         "Intel Celeron Dual Core 3205U 1.5GHz",
         "4"
        ],
        [
         "Intel Atom x5-Z8550 1.44GHz",
         "4"
        ],
        [
         "AMD A8-Series 7410 2.2GHz",
         "4"
        ],
        [
         "Intel Core i7 7660U 2.5GHz",
         "3"
        ],
        [
         "Intel Core i5 7Y54 1.2GHz",
         "3"
        ],
        [
         "AMD Ryzen 1700 3GHz",
         "3"
        ],
        [
         "Intel Core i5 1.6GHz",
         "3"
        ],
        [
         "Intel Celeron Dual Core 3855U 1.6GHz",
         "3"
        ],
        [
         "Intel Core M 6Y30 0.9GHz",
         "3"
        ],
        [
         "AMD A9-Series 9410 2.9GHz",
         "3"
        ],
        [
         "Intel Core i5 1.8GHz",
         "2"
        ],
        [
         "Intel Core i5 2.3GHz",
         "2"
        ],
        [
         "Intel Core i5 3.1GHz",
         "2"
        ],
        [
         "AMD E-Series E2-9000e 1.5GHz",
         "2"
        ]
       ],
       "shape": {
        "columns": 1,
        "rows": 118
       }
      },
      "text/plain": [
       "Cpu\n",
       "Intel Core i5 7200U 2.5GHz       190\n",
       "Intel Core i7 7700HQ 2.8GHz      146\n",
       "Intel Core i7 7500U 2.7GHz       134\n",
       "Intel Core i7 8550U 1.8GHz        73\n",
       "Intel Core i5 8250U 1.6GHz        72\n",
       "                                ... \n",
       "Intel Core i5 7200U 2.70GHz        1\n",
       "Intel Core M M7-6Y75 1.2GHz        1\n",
       "Intel Core M 6Y54 1.1GHz           1\n",
       "AMD E-Series 9000 2.2GHz           1\n",
       "Samsung Cortex A72&A53 2.0GHz      1\n",
       "Name: count, Length: 118, dtype: int64"
      ]
     },
     "execution_count": 46,
     "metadata": {},
     "output_type": "execute_result"
    }
   ],
   "source": [
    "df['Cpu'].value_counts()"
   ]
  }
 ],
 "metadata": {
  "kernelspec": {
   "display_name": ".machine (3.10.11)",
   "language": "python",
   "name": "python3"
  },
  "language_info": {
   "codemirror_mode": {
    "name": "ipython",
    "version": 3
   },
   "file_extension": ".py",
   "mimetype": "text/x-python",
   "name": "python",
   "nbconvert_exporter": "python",
   "pygments_lexer": "ipython3",
   "version": "3.10.11"
  }
 },
 "nbformat": 4,
 "nbformat_minor": 5
}
